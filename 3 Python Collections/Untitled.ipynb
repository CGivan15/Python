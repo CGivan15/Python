{
 "cells": [
  {
   "cell_type": "code",
   "execution_count": 1,
   "metadata": {},
   "outputs": [
    {
     "name": "stdout",
     "output_type": "stream",
     "text": [
      "Enter a word to disemvowel: Freedom\n",
      "Your disemvowelled word is: Frdm\n"
     ]
    },
    {
     "data": {
      "text/plain": [
       "'Frdm'"
      ]
     },
     "execution_count": 1,
     "metadata": {},
     "output_type": "execute_result"
    }
   ],
   "source": [
    "def disemvowel(word):\n",
    "    result = \"\"\n",
    "    for letter in word:\n",
    "        if letter.upper() not in 'AEIOU':\n",
    "            result += letter\n",
    "        else:\n",
    "            pass\n",
    "    print(\"Your disemvowelled word is: {}\".format(result)) \n",
    "    return result\n",
    "\n",
    "word = input(\"Enter a word to disemvowel: \")\n",
    "disemvowel(word)\n"
   ]
  },
  {
   "cell_type": "code",
   "execution_count": null,
   "metadata": {},
   "outputs": [],
   "source": []
  }
 ],
 "metadata": {
  "kernelspec": {
   "display_name": "Python 3",
   "language": "python",
   "name": "python3"
  },
  "language_info": {
   "codemirror_mode": {
    "name": "ipython",
    "version": 3
   },
   "file_extension": ".py",
   "mimetype": "text/x-python",
   "name": "python",
   "nbconvert_exporter": "python",
   "pygments_lexer": "ipython3",
   "version": "3.7.3"
  }
 },
 "nbformat": 4,
 "nbformat_minor": 2
}
